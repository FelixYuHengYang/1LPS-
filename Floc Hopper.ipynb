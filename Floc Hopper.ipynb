{
 "cells": [
  {
   "cell_type": "code",
   "execution_count": 1,
   "metadata": {
    "collapsed": true
   },
   "outputs": [],
   "source": [
    "import numpy as np\n",
    "\n",
    "#import pandas as pd\n",
    "\n",
    "import matplotlib.pyplot as plt\n",
    "\n",
    "from aide_design import physchem as pc\n",
    "\n",
    "from aide_design import expert_inputs as exp\n",
    "\n",
    "from aide_design import utility as ut\n",
    "\n",
    "from aide_design.units import unit_registry as u\n",
    "\n",
    "from aide_design.unit_process_design.prefab import lfom_prefab_functional as lfom"
   ]
  },
  {
   "cell_type": "code",
   "execution_count": 34,
   "metadata": {},
   "outputs": [
    {
     "name": "stdout",
     "output_type": "stream",
     "text": [
      "10.0 milliliter / second\n"
     ]
    }
   ],
   "source": [
    "Q_Plant=1*u.L/u.s\n",
    "Headloss=2*u.m\n",
    "T = u.Quantity(20,u.degC)\n",
    "NuPaCl = pc.viscosity_kinematic(T)\n",
    "C_Plant=1*u.mg/u.L\n",
    "C_FlocHopper=100*C_Plant\n",
    "\n",
    "Q_Floc=(Q_Plant*C_Plant/C_FlocHopper).to(u.ml/u.s)\n",
    "\n",
    "print(Q_Floc)\n"
   ]
  },
  {
   "cell_type": "code",
   "execution_count": 35,
   "metadata": {},
   "outputs": [
    {
     "name": "stdout",
     "output_type": "stream",
     "text": [
      "0.21928058237666506 centimeter / second\n"
     ]
    }
   ],
   "source": [
    "D_FlocHopper=3*u.inch\n",
    "V_Floc=Q_Floc/(u.pi*(D_FlocHopper**2)/4)\n",
    "\n",
    "print(V_Floc.to(u.cm/u.s))\n"
   ]
  },
  {
   "cell_type": "code",
   "execution_count": 44,
   "metadata": {},
   "outputs": [
    {
     "name": "stdout",
     "output_type": "stream",
     "text": [
      "[ 0.25  0.5   0.75  1.  ] inch\n",
      "[ 31.57640386   7.89410097   3.50848932   1.97352524] centimeter / second\n"
     ]
    }
   ],
   "source": [
    "Valve_Array=(np.array(np.arange(.25,1.25,.25)))*u.inch\n",
    "Area_Array=(u.pi*Valve_Array**2)/4\n",
    "Velocity_Array=Q_Floc/Area_Array\n",
    "print(Valve_Array)\n",
    "print(Velocity_Array.to(u.cm/u.s))\n"
   ]
  },
  {
   "cell_type": "code",
   "execution_count": 50,
   "metadata": {},
   "outputs": [
    {
     "name": "stdout",
     "output_type": "stream",
     "text": [
      "4.4286905513932675 meter / second\n",
      "0.06675498073203776 inch\n"
     ]
    }
   ],
   "source": [
    "K_minor_sum=2\n",
    "V=(Headloss*2*u.gravity/K_minor_sum)**.5\n",
    "print(V.to(u.m/u.s))\n",
    "#Headloss=K_minor_sum*V/2*u.g\n",
    "D=((K_minor_sum*8*(Q_Floc.to(u.m**3/u.s))**2)/(u.pi*u.pi*Headloss*u.gravity))**(1/4)\n",
    "print(D.to(u.inch))\n",
    "\n",
    "#I'm doing something wrong here but I don't know what... "
   ]
  },
  {
   "cell_type": "code",
   "execution_count": null,
   "metadata": {
    "collapsed": true
   },
   "outputs": [],
   "source": []
  }
 ],
 "metadata": {
  "kernelspec": {
   "display_name": "Python 3",
   "language": "python",
   "name": "python3"
  },
  "language_info": {
   "codemirror_mode": {
    "name": "ipython",
    "version": 3
   },
   "file_extension": ".py",
   "mimetype": "text/x-python",
   "name": "python",
   "nbconvert_exporter": "python",
   "pygments_lexer": "ipython3",
   "version": "3.6.1"
  }
 },
 "nbformat": 4,
 "nbformat_minor": 2
}

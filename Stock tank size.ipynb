{
 "cells": [
  {
   "cell_type": "code",
   "execution_count": 1,
   "metadata": {
    "collapsed": true
   },
   "outputs": [],
   "source": [
    "import numpy as np\n",
    "\n",
    "#import pandas as pd\n",
    "\n",
    "import matplotlib.pyplot as plt\n",
    "\n",
    "from aide_design import physchem as pc\n",
    "\n",
    "from aide_design import expert_inputs as exp\n",
    "\n",
    "from aide_design import utility as ut\n",
    "\n",
    "from aide_design.units import unit_registry as u\n",
    "\n",
    "from aide_design.unit_process_design.prefab import lfom_prefab_functional as lfom"
   ]
  },
  {
   "cell_type": "code",
   "execution_count": 2,
   "metadata": {
    "collapsed": true
   },
   "outputs": [],
   "source": [
    "## Set parameters of plant below"
   ]
  },
  {
   "cell_type": "code",
   "execution_count": 3,
   "metadata": {
    "collapsed": true
   },
   "outputs": [],
   "source": [
    "Q_plant=1*u.L/u.s\n",
    "T = u.Quantity(20,u.degC)\n",
    "NuPaCl = pc.viscosity_kinematic(T)\n",
    "Headloss=10*u.cm\n",
    "StockCl=70*u.gram/u.L\n",
    "DesiredCl_Concentration=3*u.mg/u.L\n",
    "RatioError = 0.1\n",
    "KMinor = 2"
   ]
  },
  {
   "cell_type": "code",
   "execution_count": 6,
   "metadata": {},
   "outputs": [
    {
     "name": "stdout",
     "output_type": "stream",
     "text": [
      "0.04285714285714286 milliliter / second\n",
      "0.1542857142857143 liter / hour\n",
      "1.8514285714285712 liter\n"
     ]
    }
   ],
   "source": [
    "Time_Experiment=12*u.hr\n",
    "Q_CDC=(Q_plant*DesiredCl_Concentration/StockCl).to(u.mL/u.s)\n",
    "print(Q_CDC) ##mL/sec\n",
    "print(Q_CDC.to(u.L/u.hour)) ##L/hr\n",
    "V_Coagulant_Tank=Q_CDC*Time_Experiment\n",
    "print(V_Coagulant_Tank.to(u.L))"
   ]
  },
  {
   "cell_type": "code",
   "execution_count": null,
   "metadata": {
    "collapsed": true
   },
   "outputs": [],
   "source": []
  }
 ],
 "metadata": {
  "kernelspec": {
   "display_name": "Python 3",
   "language": "python",
   "name": "python3"
  },
  "language_info": {
   "codemirror_mode": {
    "name": "ipython",
    "version": 3
   },
   "file_extension": ".py",
   "mimetype": "text/x-python",
   "name": "python",
   "nbconvert_exporter": "python",
   "pygments_lexer": "ipython3",
   "version": "3.6.1"
  }
 },
 "nbformat": 4,
 "nbformat_minor": 2
}

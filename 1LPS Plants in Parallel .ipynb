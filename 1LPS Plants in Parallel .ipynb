{
 "cells": [
  {
   "cell_type": "code",
   "execution_count": 3,
   "metadata": {
    "collapsed": true
   },
   "outputs": [],
   "source": [
    "import numpy as np\n",
    "\n",
    "#import pandas as pd\n",
    "\n",
    "import matplotlib.pyplot as plt\n",
    "\n",
    "from aide_design import physchem as pc\n",
    "\n",
    "from aide_design import expert_inputs as exp\n",
    "\n",
    "from aide_design import utility as ut\n",
    "\n",
    "from aide_design.units import unit_registry as u\n",
    "\n",
    "from aide_design.unit_process_design.prefab import lfom_prefab_functional as lfom"
   ]
  },
  {
   "cell_type": "code",
   "execution_count": 4,
   "metadata": {
    "collapsed": true
   },
   "outputs": [],
   "source": [
    "## Set parameters of plant below"
   ]
  },
  {
   "cell_type": "code",
   "execution_count": 5,
   "metadata": {},
   "outputs": [],
   "source": [
    "Q_plant=3*u.L/u.s\n",
    "T = u.Quantity(20,u.degC)\n",
    "NuPaCl = pc.viscosity_kinematic(T)\n",
    "Headloss=10*u.cm\n",
    "StockCl=70*u.gram/u.L\n",
    "DesiredCl_Concentration=3*u.mg/u.L\n",
    "RatioError = 0.1\n",
    "KMinor = 2"
   ]
  },
  {
   "cell_type": "code",
   "execution_count": 6,
   "metadata": {},
   "outputs": [
    {
     "name": "stdout",
     "output_type": "stream",
     "text": [
      "0.12857142857142856 milliliter / second\n",
      "0.4628571428571428 liter / hour\n"
     ]
    }
   ],
   "source": [
    "Q_CDC=(Q_plant*DesiredCl_Concentration/StockCl).to(u.mL/u.s)\n",
    "print(Q_CDC) ##mL/sec\n",
    "print(Q_CDC.to(u.L/u.hour)) ##L/hr"
   ]
  },
  {
   "cell_type": "code",
   "execution_count": 7,
   "metadata": {
    "collapsed": true
   },
   "outputs": [],
   "source": [
    "##Find diameter of dooosing toob"
   ]
  },
  {
   "cell_type": "code",
   "execution_count": 8,
   "metadata": {},
   "outputs": [
    {
     "name": "stdout",
     "output_type": "stream",
     "text": [
      "[ 0.0625  0.125 ] inch\n",
      "The maximum average velocity in a dosing tube is 0.313 m/s\n"
     ]
    }
   ],
   "source": [
    "DiamTubeArray = np.array(np.arange(1/16,3/16,1/16)) * u.inch ## 1/16 or 1/8 inch tubing\n",
    "print(DiamTubeArray) \n",
    "\n",
    "VelTubeMax = (((RatioError * 2 * Headloss * pc.gravity) / KMinor)**(1/2)).to(u.meter/u.s)\n",
    "print('The maximum average velocity in a dosing tube is', ut.sig(VelTubeMax,3))"
   ]
  },
  {
   "cell_type": "code",
   "execution_count": 9,
   "metadata": {
    "collapsed": true
   },
   "outputs": [],
   "source": [
    "##Flow rates for tubes"
   ]
  },
  {
   "cell_type": "code",
   "execution_count": 10,
   "metadata": {},
   "outputs": [
    {
     "name": "stdout",
     "output_type": "stream",
     "text": [
      "[ 0.61983727  2.47934908] milliliter / second\n"
     ]
    }
   ],
   "source": [
    "def flow_cdc_max(diam, VelTubeMax): \n",
    "    Flow = pc.area_circle(diam) * (VelTubeMax)\n",
    "    return Flow\n",
    "        \n",
    "FlowMaxArray = flow_cdc_max(DiamTubeArray, VelTubeMax).to(u.mL/u.s)\n",
    "print(FlowMaxArray)"
   ]
  },
  {
   "cell_type": "code",
   "execution_count": 11,
   "metadata": {
    "collapsed": true
   },
   "outputs": [],
   "source": [
    "##Lengths for each tube"
   ]
  },
  {
   "cell_type": "code",
   "execution_count": 12,
   "metadata": {},
   "outputs": [
    {
     "name": "stdout",
     "output_type": "stream",
     "text": [
      "[ 0.22117655  0.88470622] meter\n"
     ]
    }
   ],
   "source": [
    "def length_tube(flow_max, diam, headloss_max, nu, k_minor):\n",
    "    \"Returns the length of tube necessary to handle the maximum flow.\"\n",
    "    L = (((pc.gravity * headloss_max * np.pi * diam**4)/\n",
    "                           (128 * nu * flow_max))-\n",
    "                    ((k_minor * flow_max)/\n",
    "                             (16 * np.pi * nu)))\n",
    "    return L \n",
    "length_dosingtube=length_tube(FlowMaxArray, DiamTubeArray,Headloss, NuPaCl,KMinor)\n",
    "print(length_dosingtube.to(u.m))"
   ]
  },
  {
   "cell_type": "code",
   "execution_count": 13,
   "metadata": {
    "collapsed": true
   },
   "outputs": [],
   "source": [
    "##Both are reasonably lengthed. .22 would be easier to wrap around so I conclude that we should use the 1/16th diameter tubing. \n"
   ]
  },
  {
   "cell_type": "code",
   "execution_count": 16,
   "metadata": {},
   "outputs": [
    {
     "name": "stdout",
     "output_type": "stream",
     "text": [
      "5.196152422706632 inch\n"
     ]
    }
   ],
   "source": [
    "#conservation \n",
    "#VA_Plant=3VA_Singular\n",
    "#A_Plant=3A_Singular\n",
    "#(pi*D_2^2)/4=(pi*D_1^2)/4\n",
    "#D_2^2=3*D_1^2\n",
    "#D_2=(3^.5)*D_1\n",
    "Q_Singular_Floc=(1/3)*Q_plant\n",
    "D_Flocculator=3*u.inch\n",
    "\n",
    "D_plant= np.sqrt(3)*D_Flocculator\n",
    "print(D_plant)\n",
    "\n"
   ]
  },
  {
   "cell_type": "code",
   "execution_count": null,
   "metadata": {
    "collapsed": true
   },
   "outputs": [],
   "source": []
  }
 ],
 "metadata": {
  "kernelspec": {
   "display_name": "Python 3",
   "language": "python",
   "name": "python3"
  },
  "language_info": {
   "codemirror_mode": {
    "name": "ipython",
    "version": 3
   },
   "file_extension": ".py",
   "mimetype": "text/x-python",
   "name": "python",
   "nbconvert_exporter": "python",
   "pygments_lexer": "ipython3",
   "version": "3.6.1"
  }
 },
 "nbformat": 4,
 "nbformat_minor": 2
}
